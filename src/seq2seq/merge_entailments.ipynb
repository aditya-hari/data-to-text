{
 "cells": [
  {
   "cell_type": "code",
   "execution_count": 17,
   "metadata": {},
   "outputs": [],
   "source": [
    "import glob \n",
    "import random "
   ]
  },
  {
   "cell_type": "code",
   "execution_count": 18,
   "metadata": {},
   "outputs": [],
   "source": [
    "sent_prop_src = open('/home2/aditya_hari/gsoc/rdf-to-text/scraping/notebooks/sent_prop_src.txt', 'r').readlines()"
   ]
  },
  {
   "cell_type": "code",
   "execution_count": 19,
   "metadata": {},
   "outputs": [],
   "source": [
    "sent_prop_src = [[i.strip() for i in line.split('\\t')] for line in sent_prop_src]"
   ]
  },
  {
   "cell_type": "code",
   "execution_count": 20,
   "metadata": {},
   "outputs": [],
   "source": [
    "entailments_files = sorted(glob.glob('/scratch/entailments/*'))"
   ]
  },
  {
   "cell_type": "code",
   "execution_count": 21,
   "metadata": {},
   "outputs": [
    {
     "name": "stdout",
     "output_type": "stream",
     "text": [
      "['/scratch/entailments/entailments_0.tsv', '/scratch/entailments/entailments_1.tsv', '/scratch/entailments/entailments_3.tsv']\n"
     ]
    }
   ],
   "source": [
    "print(entailments_files)"
   ]
  },
  {
   "cell_type": "code",
   "execution_count": 22,
   "metadata": {},
   "outputs": [],
   "source": [
    "entailments = {'de': {}, 'en': {}, 'ga': {}}"
   ]
  },
  {
   "cell_type": "code",
   "execution_count": 23,
   "metadata": {},
   "outputs": [
    {
     "name": "stdout",
     "output_type": "stream",
     "text": [
      "0\n",
      "1\n",
      "3\n"
     ]
    }
   ],
   "source": [
    "for f in entailments_files:\n",
    "    f_num = int(f.split('/')[-1].split('.')[0].split('_')[-1])\n",
    "    sent_prop_src_split = sent_prop_src[f_num*len(sent_prop_src)//4:(f_num+1)*len(sent_prop_src)//4]\n",
    "    print(f_num)\n",
    "    f_lines = open(f, 'r').readlines()\n",
    "    for line in f_lines:\n",
    "        num, sent, prop = line.strip().split('\\t')\n",
    "        sent = sent.strip('\"')\n",
    "        lang = sent_prop_src_split[int(num)][2]\n",
    "        if(sent not in entailments[lang]):\n",
    "            entailments[lang][sent] = set()\n",
    "        entailments[lang][sent].add(prop)"
   ]
  },
  {
   "cell_type": "code",
   "execution_count": 24,
   "metadata": {},
   "outputs": [],
   "source": [
    "for lang in entailments:\n",
    "    sampled = entailments[lang].keys()\n",
    "    with open(f'/home2/aditya_hari/gsoc/data/synthetic/{lang}/train_src', 'w') as f:\n",
    "        for sent in sampled:\n",
    "            f.write(f'{\" <TSP> \".join(entailments[lang][sent])}\\n')\n",
    "    with open(f'/home2/aditya_hari/gsoc/data/synthetic/{lang}/train_tgt', 'w') as f:\n",
    "        for sent in sampled:\n",
    "            f.write(f'{sent}\\n')"
   ]
  },
  {
   "cell_type": "code",
   "execution_count": null,
   "metadata": {},
   "outputs": [],
   "source": []
  }
 ],
 "metadata": {
  "kernelspec": {
   "display_name": "Python 3.8.16 ('textbox')",
   "language": "python",
   "name": "python3"
  },
  "language_info": {
   "codemirror_mode": {
    "name": "ipython",
    "version": 3
   },
   "file_extension": ".py",
   "mimetype": "text/x-python",
   "name": "python",
   "nbconvert_exporter": "python",
   "pygments_lexer": "ipython3",
   "version": "3.8.16"
  },
  "orig_nbformat": 4,
  "vscode": {
   "interpreter": {
    "hash": "84fc63c8ae42b05f54f8c8e4c73411ce0404f059987aac7c448c556c45688d5a"
   }
  }
 },
 "nbformat": 4,
 "nbformat_minor": 2
}
