{
 "cells": [
  {
   "cell_type": "code",
   "execution_count": 2,
   "metadata": {},
   "outputs": [],
   "source": [
    "import requests \n",
    "import pickle \n",
    "import regex as re \n",
    "from fuzzywuzzy import fuzz"
   ]
  },
  {
   "cell_type": "code",
   "execution_count": 3,
   "metadata": {},
   "outputs": [],
   "source": [
    "all_content = pickle.load(open('all_content.pkl', 'rb'))"
   ]
  },
  {
   "cell_type": "code",
   "execution_count": 4,
   "metadata": {},
   "outputs": [],
   "source": [
    "pattern = r'<Label>([^<]*)</Label><URI>([^<]*)</URI>'"
   ]
  },
  {
   "cell_type": "code",
   "execution_count": 11,
   "metadata": {},
   "outputs": [
    {
     "data": {
      "text/plain": [
       "('written',\n",
       " 'A Man Asleep',\n",
       " [['A Man Asleep (French: Un homme qui dort) is a 1967 novel by the French writer Georges Perec. It uses a second-person narrative, and follows a 25-year-old student, who one day decides to be indifferent about the world. A Man Asleep was adapted into a 1974 film, The Man Who Sleeps.'],\n",
       "  [\"The novel was published in France through Éditions Denoël in 1967. An English translation by Andrew Leak was published in 1990 through Collins Harvill in the United Kingdom and David R. Godine, Publisher in the United States, in a shared volume with Perec's first novel, Things: A Story of the Sixties.\"],\n",
       "  ['Upon the American release, Richard Eder of the Los Angeles Times compared the two novels of the volume—Things and A Man Asleep—and wrote that Things was \"the more engaging of the two, though less focused and ultimately, perhaps, less memorable.\" He wrote that in A Man Asleep, \"Perec shows a beauty on the far side of the void; a humanity on the far side of refusal.\"']])"
      ]
     },
     "execution_count": 11,
     "metadata": {},
     "output_type": "execute_result"
    }
   ],
   "source": [
    "all_content['en']['A Man Asleep']"
   ]
  },
  {
   "cell_type": "code",
   "execution_count": 13,
   "metadata": {},
   "outputs": [
    {
     "name": "stdout",
     "output_type": "stream",
     "text": [
      "en\n",
      "de\n",
      "pt\n"
     ]
    }
   ],
   "source": [
    "for lang in all_content:\n",
    "    print(lang)\n",
    "    for title in all_content[lang]:\n",
    "        r = requests.get(f'https://lookup.dbpedia.org/api/search?query={title}')\n",
    "        if(r.status_code == 200):\n",
    "            match = re.findall(pattern, r.text)[0]\n",
    "            if(fuzz.ratio(match[0], title) > 80):\n",
    "                all_content[lang][title] = (match[1], all_content[lang][title][0], all_content[lang][title][1], all_content[lang][title][2])"
   ]
  },
  {
   "cell_type": "code",
   "execution_count": 14,
   "metadata": {},
   "outputs": [],
   "source": [
    "all_content_dump = open('all_content_uris.pkl', 'wb')\n",
    "pickle.dump(all_content, all_content_dump)\n",
    "all_content_dump.close()"
   ]
  },
  {
   "cell_type": "code",
   "execution_count": 18,
   "metadata": {},
   "outputs": [],
   "source": [
    "r = requests.get(f'https://lookup.dbpedia.org/api/search?query=A Man Asleep')"
   ]
  },
  {
   "cell_type": "code",
   "execution_count": null,
   "metadata": {},
   "outputs": [],
   "source": []
  }
 ],
 "metadata": {
  "kernelspec": {
   "display_name": "Python 3.8.16 ('textbox')",
   "language": "python",
   "name": "python3"
  },
  "language_info": {
   "codemirror_mode": {
    "name": "ipython",
    "version": 3
   },
   "file_extension": ".py",
   "mimetype": "text/x-python",
   "name": "python",
   "nbconvert_exporter": "python",
   "pygments_lexer": "ipython3",
   "version": "3.8.16"
  },
  "orig_nbformat": 4,
  "vscode": {
   "interpreter": {
    "hash": "84fc63c8ae42b05f54f8c8e4c73411ce0404f059987aac7c448c556c45688d5a"
   }
  }
 },
 "nbformat": 4,
 "nbformat_minor": 2
}
