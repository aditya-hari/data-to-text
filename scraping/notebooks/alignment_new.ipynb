{
 "cells": [
  {
   "cell_type": "code",
   "execution_count": 1,
   "metadata": {},
   "outputs": [],
   "source": [
    "from sklearn.feature_extraction.text import CountVectorizer\n",
    "from nltk.util import ngrams \n",
    "from nltk.tokenize import sent_tokenize\n",
    "from collections import Counter\n",
    "import regex as re \n",
    "from numpy import dot\n",
    "from numpy.linalg import norm\n",
    "import numpy as np \n",
    "import json \n",
    "import random \n",
    "import spacy \n",
    "import tqdm "
   ]
  },
  {
   "cell_type": "code",
   "execution_count": 2,
   "metadata": {},
   "outputs": [
    {
     "data": {
      "text/plain": [
       "<spacy.pipeline.sentencizer.Sentencizer at 0x7fbbef5ec6c0>"
      ]
     },
     "execution_count": 2,
     "metadata": {},
     "output_type": "execute_result"
    }
   ],
   "source": [
    "nlp = spacy.load('xx_sent_ud_sm')\n",
    "nlp.add_pipe('sentencizer')"
   ]
  },
  {
   "cell_type": "code",
   "execution_count": null,
   "metadata": {},
   "outputs": [],
   "source": [
    "label_map = {} \n",
    "with open('/scratch/useful/subject_set_labels.jsonl', 'r') as f:\n",
    "    for line in f:\n",
    "        line = json.loads(line)\n",
    "        label_map.update(line)"
   ]
  },
  {
   "cell_type": "code",
   "execution_count": null,
   "metadata": {},
   "outputs": [],
   "source": [
    "prop_dict = {} \n",
    "with open('/scratch/useful/ontology_props.jsonl', 'r') as f:\n",
    "    for line in f:\n",
    "        line = json.loads(line)\n",
    "        prop_dict.update({line['name']: line['properties']})"
   ]
  },
  {
   "cell_type": "code",
   "execution_count": null,
   "metadata": {},
   "outputs": [],
   "source": [
    "type_dict = {} \n",
    "with open('/scratch/useful/mapping_transitive.ttl', 'r') as f:\n",
    "    for line in f:\n",
    "        line = line.split()\n",
    "        if(line[0] not in type_dict):\n",
    "            type_dict[line[0]] = set() \n",
    "        type_dict[line[0]].add(line[2].split('/')[-1])"
   ]
  },
  {
   "cell_type": "code",
   "execution_count": null,
   "metadata": {},
   "outputs": [
    {
     "data": {
      "text/plain": [
       "{'Agent>',\n",
       " 'DUL.owl#Agent>',\n",
       " 'DUL.owl#SocialPerson>',\n",
       " 'Group>',\n",
       " 'MusicGroup>',\n",
       " 'Organisation>',\n",
       " 'Organization>',\n",
       " 'Q215380>',\n",
       " 'Q24229398>',\n",
       " 'Q43229>',\n",
       " 'owl#Thing>'}"
      ]
     },
     "execution_count": 11,
     "metadata": {},
     "output_type": "execute_result"
    }
   ],
   "source": [
    "type_dict['<http://dbpedia.org/resource/!!!>']"
   ]
  },
  {
   "cell_type": "code",
   "execution_count": null,
   "metadata": {},
   "outputs": [],
   "source": [
    "def get_prop_name(item):\n",
    "    if(\"#literal\" in item):\n",
    "        return item.split('#literal')[0], True\n",
    "    if(item in label_map):\n",
    "        tail_name = label_map[item]\n",
    "    else:\n",
    "        tail_name = re.sub('_', ' ',item.split('/')[-1])\n",
    "    return tail_name, False"
   ]
  },
  {
   "cell_type": "code",
   "execution_count": null,
   "metadata": {},
   "outputs": [],
   "source": [
    "wanted_types = [\"Place\", \"Person\", \"Organization\", \"Organisation\"]"
   ]
  },
  {
   "cell_type": "code",
   "execution_count": null,
   "metadata": {},
   "outputs": [],
   "source": [
    "langs = ['ga', 'de', 'en']"
   ]
  },
  {
   "cell_type": "code",
   "execution_count": null,
   "metadata": {},
   "outputs": [],
   "source": [
    "candidates = {}"
   ]
  },
  {
   "cell_type": "code",
   "execution_count": null,
   "metadata": {},
   "outputs": [
    {
     "name": "stdout",
     "output_type": "stream",
     "text": [
      "ga\n"
     ]
    },
    {
     "name": "stderr",
     "output_type": "stream",
     "text": [
      "  0%|          | 0/1000000 [00:00<?, ?it/s]"
     ]
    },
    {
     "ename": "NameError",
     "evalue": "name 'wanted_types' is not defined",
     "output_type": "error",
     "traceback": [
      "\u001b[0;31m---------------------------------------------------------------------------\u001b[0m",
      "\u001b[0;31mNameError\u001b[0m                                 Traceback (most recent call last)",
      "Cell \u001b[0;32mIn[10], line 12\u001b[0m\n\u001b[1;32m      9\u001b[0m txt \u001b[38;5;241m=\u001b[39m item[\u001b[38;5;124m'\u001b[39m\u001b[38;5;124mtext\u001b[39m\u001b[38;5;124m'\u001b[39m]\n\u001b[1;32m     10\u001b[0m found \u001b[38;5;241m=\u001b[39m \u001b[38;5;28;01mFalse\u001b[39;00m \n\u001b[0;32m---> 12\u001b[0m \u001b[38;5;28;01mfor\u001b[39;00m t \u001b[38;5;129;01min\u001b[39;00m \u001b[43mwanted_types\u001b[49m:\n\u001b[1;32m     13\u001b[0m     \u001b[38;5;28;01mif\u001b[39;00m(\u001b[38;5;124mf\u001b[39m\u001b[38;5;124m'\u001b[39m\u001b[38;5;132;01m{\u001b[39;00mt\u001b[38;5;132;01m}\u001b[39;00m\u001b[38;5;124m>\u001b[39m\u001b[38;5;124m'\u001b[39m \u001b[38;5;129;01min\u001b[39;00m type_dict[\u001b[38;5;124mf\u001b[39m\u001b[38;5;124m'\u001b[39m\u001b[38;5;124m<\u001b[39m\u001b[38;5;132;01m{\u001b[39;00mrsc\u001b[38;5;132;01m}\u001b[39;00m\u001b[38;5;124m>\u001b[39m\u001b[38;5;124m'\u001b[39m]):\n\u001b[1;32m     14\u001b[0m         found \u001b[38;5;241m=\u001b[39m \u001b[38;5;28;01mTrue\u001b[39;00m \n",
      "\u001b[0;31mNameError\u001b[0m: name 'wanted_types' is not defined"
     ]
    }
   ],
   "source": [
    "for lang in langs:\n",
    "    print(lang)\n",
    "    with(open(f'/scratch/useful/abstracts_{lang}.jsonl', 'r')) as f:\n",
    "        pb = tqdm.tqdm(total=1000000)\n",
    "        for i, line in enumerate(f):\n",
    "            pb.update(1)\n",
    "            item = json.loads(line)\n",
    "            rsc = item['resource']\n",
    "            txt = item['text']\n",
    "            found = False \n",
    "\n",
    "            for t in wanted_types:\n",
    "                if(f'{t}>' in type_dict[f'<{rsc}>']):\n",
    "                    found = True \n",
    "            \n",
    "            if(not(found)):\n",
    "                continue  \n",
    "\n",
    "            name = get_prop_name(rsc)[0]\n",
    "            if(name not in candidates):\n",
    "                candidates[name] = {}\n",
    "\n",
    "                properties = [] \n",
    "                fw_props = prop_dict[rsc]['properties']\n",
    "                for prop in fw_props:\n",
    "                    for item in fw_props[prop]:\n",
    "                        item_name = get_prop_name(item)[0]\n",
    "                        properties.append((name, prop, item_name))\n",
    "                \n",
    "                rv_props = prop_dict[rsc]['reverse_properties']\n",
    "                for prop in rv_props:\n",
    "                    for item in rv_props[prop][:3]:\n",
    "                        item_name = get_prop_name(item)[0]\n",
    "                        properties.append((item_name, prop, name))\n",
    "                \n",
    "                candidates[name]['properties'] = properties\n",
    "\n",
    "            doc = nlp(txt)\n",
    "            filtered_sents = []\n",
    "            for sent in doc.sents:\n",
    "                sent_ = sent.text\n",
    "                if(len(sent_.split()) > 5 and len(sent_.split()) < 250):\n",
    "                    filtered_sents.append(sent_)\n",
    "            candidates[name][f'{lang}_text'] = filtered_sents"
   ]
  },
  {
   "cell_type": "code",
   "execution_count": null,
   "metadata": {},
   "outputs": [],
   "source": [
    "save_name = '/scratch/useful/filtered_candidates.json'\n",
    "with open(save_name, 'w') as f:\n",
    "    json.dump(candidates, f)"
   ]
  },
  {
   "cell_type": "code",
   "execution_count": 11,
   "metadata": {},
   "outputs": [],
   "source": [
    "candidates = json.load(open('/scratch/candidates.json', 'r'))"
   ]
  },
  {
   "cell_type": "code",
   "execution_count": 12,
   "metadata": {},
   "outputs": [],
   "source": [
    "de_sents = open('../scripts/translated_sents_de.txt').readlines() \n",
    "ga_sents = open('../scripts/translated_sents_ga.txt').readlines()\n",
    "\n",
    "de_pointer = 0 \n",
    "ga_pointer = 0"
   ]
  },
  {
   "cell_type": "code",
   "execution_count": 13,
   "metadata": {},
   "outputs": [
    {
     "name": "stdout",
     "output_type": "stream",
     "text": [
      "\\\"Weird Al\\\" Yankovic\n"
     ]
    }
   ],
   "source": [
    "for entity in candidates:\n",
    "    if('de_text' in candidates[entity]):\n",
    "        print(entity)\n",
    "        candidates[entity]['translated_sents'] = de_sents[de_pointer:de_pointer+len(candidates[entity]['de_text'])]\n",
    "        de_pointer += len(candidates[entity]['de_text'])\n",
    "        break \n",
    "    # if('ga_text' in candidates[entity]):\n",
    "    #     candidates[entity]['translated_sents'] = ga_sents[ga_pointer:ga_pointer+len(candidates[entity]['ga_text'])]\n",
    "    #     ga_pointer += len(candidates[entity]['ga_text'])"
   ]
  },
  {
   "cell_type": "code",
   "execution_count": 17,
   "metadata": {},
   "outputs": [],
   "source": [
    "candidate_keys = list(candidates.keys())"
   ]
  },
  {
   "cell_type": "code",
   "execution_count": 22,
   "metadata": {},
   "outputs": [
    {
     "ename": "NameError",
     "evalue": "name 'candidate_keys' is not defined",
     "output_type": "error",
     "traceback": [
      "\u001b[0;31m---------------------------------------------------------------------------\u001b[0m",
      "\u001b[0;31mNameError\u001b[0m                                 Traceback (most recent call last)",
      "Cell \u001b[0;32mIn[22], line 1\u001b[0m\n\u001b[0;32m----> 1\u001b[0m candidates[\u001b[43mcandidate_keys\u001b[49m[\u001b[38;5;241m564\u001b[39m]][\u001b[38;5;124m'\u001b[39m\u001b[38;5;124mde_text\u001b[39m\u001b[38;5;124m'\u001b[39m]\n",
      "\u001b[0;31mNameError\u001b[0m: name 'candidate_keys' is not defined"
     ]
    }
   ],
   "source": [
    "candidates[candidate_keys[564]]['de_text']"
   ]
  },
  {
   "cell_type": "code",
   "execution_count": 10,
   "metadata": {},
   "outputs": [
    {
     "data": {
      "text/plain": [
       "(2800843, 1587650, 76978, 50678)"
      ]
     },
     "execution_count": 10,
     "metadata": {},
     "output_type": "execute_result"
    }
   ],
   "source": [
    "de_pointer, len(de_sents), ga_pointer, len(ga_sents)"
   ]
  },
  {
   "cell_type": "code",
   "execution_count": null,
   "metadata": {},
   "outputs": [],
   "source": []
  }
 ],
 "metadata": {
  "kernelspec": {
   "display_name": "Python 3.8.16 ('textbox')",
   "language": "python",
   "name": "python3"
  },
  "language_info": {
   "codemirror_mode": {
    "name": "ipython",
    "version": 3
   },
   "file_extension": ".py",
   "mimetype": "text/x-python",
   "name": "python",
   "nbconvert_exporter": "python",
   "pygments_lexer": "ipython3",
   "version": "3.8.16"
  },
  "orig_nbformat": 4,
  "vscode": {
   "interpreter": {
    "hash": "84fc63c8ae42b05f54f8c8e4c73411ce0404f059987aac7c448c556c45688d5a"
   }
  }
 },
 "nbformat": 4,
 "nbformat_minor": 2
}
