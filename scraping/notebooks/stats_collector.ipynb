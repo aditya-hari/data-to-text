{
 "cells": [
  {
   "cell_type": "code",
   "execution_count": null,
   "metadata": {},
   "outputs": [],
   "source": [
    "# FIX PERSON FUNCTION OCCURING FOR SUE_GRAFTON WHAT THE FUCK "
   ]
  },
  {
   "cell_type": "code",
   "execution_count": 1,
   "metadata": {},
   "outputs": [],
   "source": [
    "from collections import Counter\n",
    "import re\n",
    "import json \n",
    "import random "
   ]
  },
  {
   "cell_type": "code",
   "execution_count": 2,
   "metadata": {},
   "outputs": [],
   "source": [
    "subject_set = set() "
   ]
  },
  {
   "cell_type": "code",
   "execution_count": 3,
   "metadata": {},
   "outputs": [
    {
     "name": "stdout",
     "output_type": "stream",
     "text": [
      "0\n",
      "10000000\n",
      "20000000\n",
      "30000000\n",
      "40000000\n"
     ]
    }
   ],
   "source": [
    "with open('/scratch/aditya/instance_transitive_en.ttl', 'r') as f:\n",
    "    for i, line in enumerate(f):\n",
    "        if(i%10000000 == 0):\n",
    "            print(i)\n",
    "        if(len(re.findall(r'__\\d+', line.split()[0]))!=0):\n",
    "            continue \n",
    "        subject_set.add(line.split()[0])"
   ]
  },
  {
   "cell_type": "code",
   "execution_count": 4,
   "metadata": {},
   "outputs": [
    {
     "data": {
      "text/plain": [
       "3821915"
      ]
     },
     "execution_count": 4,
     "metadata": {},
     "output_type": "execute_result"
    }
   ],
   "source": [
    "len(subject_set)"
   ]
  },
  {
   "cell_type": "code",
   "execution_count": 5,
   "metadata": {},
   "outputs": [
    {
     "name": "stdout",
     "output_type": "stream",
     "text": [
      "1000000\n",
      "2000000\n",
      "3000000\n",
      "4000000\n",
      "5000000\n",
      "6000000\n",
      "7000000\n",
      "8000000\n",
      "9000000\n",
      "10000000\n",
      "11000000\n",
      "12000000\n",
      "13000000\n",
      "14000000\n",
      "15000000\n",
      "16000000\n"
     ]
    }
   ],
   "source": [
    "labels_map = {} \n",
    "with(open(\"/scratch/aditya/labels_en\", 'r')) as f:\n",
    "    for i, line in enumerate(f):\n",
    "        if(i == 0 or i == 16233168):\n",
    "            continue \n",
    "        if(i%1000000 == 0):\n",
    "            print(i)\n",
    "        tokens = line.split(\"<http://www.w3.org/2000/01/rdf-schema#label>\")\n",
    "        labels_map[tokens[0].strip()] = tokens[1].strip().split('@')[0][1:-1]"
   ]
  },
  {
   "cell_type": "code",
   "execution_count": 6,
   "metadata": {},
   "outputs": [],
   "source": [
    "stations = open('stations.txt', 'w')"
   ]
  },
  {
   "cell_type": "code",
   "execution_count": 7,
   "metadata": {},
   "outputs": [],
   "source": [
    "subject_set_labels = {} \n",
    "for subject in subject_set:\n",
    "    if(subject in labels_map):\n",
    "        new_name = labels_map[subject]\n",
    "    else:\n",
    "        if(len(re.findall(r'__\\d+', subject))!=0):\n",
    "            continue \n",
    "        new_name = re.sub('_', ' ',subject.split('/')[-1])\n",
    "    if(\"List of\" in new_name or new_name[-6:] == 'squads'):\n",
    "        continue \n",
    "    subject_set_labels[subject] = new_name"
   ]
  },
  {
   "cell_type": "code",
   "execution_count": 53,
   "metadata": {},
   "outputs": [],
   "source": [
    "with open('/scratch/aditya/subject_set_labels.jsonl', 'w') as f:\n",
    "    for key, value in subject_set_labels.items():\n",
    "        f.write(json.dumps({key[1:-1]:value}) + '\\n')"
   ]
  },
  {
   "cell_type": "code",
   "execution_count": null,
   "metadata": {},
   "outputs": [
    {
     "data": {
      "text/plain": [
       "3819275"
      ]
     },
     "execution_count": 11,
     "metadata": {},
     "output_type": "execute_result"
    }
   ],
   "source": [
    "len(subject_set_labels)"
   ]
  },
  {
   "cell_type": "code",
   "execution_count": 12,
   "metadata": {},
   "outputs": [],
   "source": [
    "subject_properties = {} "
   ]
  },
  {
   "cell_type": "code",
   "execution_count": 13,
   "metadata": {},
   "outputs": [
    {
     "name": "stdout",
     "output_type": "stream",
     "text": [
      "0\n",
      "2500000\n",
      "5000000\n",
      "7500000\n",
      "10000000\n",
      "12500000\n",
      "15000000\n",
      "17500000\n",
      "20000000\n",
      "22500000\n"
     ]
    }
   ],
   "source": [
    "with open('/scratch/aditya/mappingbased_en.ttl', 'r') as f:\n",
    "    for i, line in enumerate(f):\n",
    "        if(i%2500000 == 0): \n",
    "            print(i)\n",
    "        if(line.split()[0] in subject_set_labels):\n",
    "            #name = subject_set_labels[line.split()[0]]\n",
    "            name = line.split()[0][1:-1]\n",
    "            if(len(name) == 0 or name[0] == '.'):\n",
    "                continue \n",
    "            if(name not in subject_properties):\n",
    "                subject_properties[name] = {'properties': {}, 'reverse_properties': {}}\n",
    "            property_name = line.split()[1].split('/')[-1][:-1]\n",
    "            if(\"#\" in property_name):\n",
    "                property_name = property_name.split(\"#\")[1]\n",
    "            if(property_name == 'seeAlso'):\n",
    "                continue \n",
    "            object_name_ = line.split()[2]\n",
    "            if(object_name_ in subject_set_labels):\n",
    "                object_name = subject_set_labels[object_name_]\n",
    "                if(len(re.findall(r'__\\d+', object_name))!=0):\n",
    "                    stations.write(object_name+'\\n')\n",
    "                    continue\n",
    "            else:\n",
    "                if(len(re.findall(r'__\\d+', object_name_))!=0):\n",
    "                    stations.write(object_name_+'\\n')\n",
    "                    continue\n",
    "                object_name = re.sub('_', ' ',object_name_.split('/')[-1])\n",
    "            if(property_name not in subject_properties[name]['properties']):\n",
    "                subject_properties[name]['properties'][property_name] = []\n",
    "            #subject_properties[name]['properties'][property_name].append(re.sub('>', '', object_name_))\n",
    "            subject_properties[name]['properties'][property_name].append(object_name_[1:-1])"
   ]
  },
  {
   "cell_type": "code",
   "execution_count": 14,
   "metadata": {},
   "outputs": [
    {
     "data": {
      "text/plain": [
       "{'properties': {'birthPlace': ['http://dbpedia.org/resource/Covina,_California'],\n",
       "  'position': ['http://dbpedia.org/resource/Goalkeeper_(association_football)'],\n",
       "  'team': ['http://dbpedia.org/resource/Minnesota_United_FC_(2010–16)',\n",
       "   'http://dbpedia.org/resource/OC_Blues_Strikers_FC',\n",
       "   'http://dbpedia.org/resource/Orange_County_Blues']},\n",
       " 'reverse_properties': {}}"
      ]
     },
     "execution_count": 14,
     "metadata": {},
     "output_type": "execute_result"
    }
   ],
   "source": [
    "subject_properties['http://dbpedia.org/resource/Aaron_Perez']"
   ]
  },
  {
   "cell_type": "code",
   "execution_count": 15,
   "metadata": {},
   "outputs": [
    {
     "name": "stdout",
     "output_type": "stream",
     "text": [
      "0\n",
      "2500000\n",
      "5000000\n",
      "7500000\n",
      "10000000\n",
      "12500000\n",
      "15000000\n",
      "17500000\n"
     ]
    }
   ],
   "source": [
    "with open('/scratch/aditya/mappingbased_literals_en.ttl', 'r') as f:\n",
    "    for i, line in enumerate(f):\n",
    "        if(i%2500000 == 0): \n",
    "            print(i)\n",
    "        if(line.split()[0] in subject_set_labels):\n",
    "            # name = subject_set_labels[line.split()[0]]\n",
    "            name = line.split()[0][1:-1]\n",
    "            if(len(name) == 0 or name[0] == '.'):\n",
    "                continue \n",
    "            if(name not in subject_properties):\n",
    "                subject_properties[name] = {'properties': {}, 'reverse_properties': {}}\n",
    "            property_name = line.split()[1].split('/')[-1][:-1]\n",
    "            if(\"#\" in property_name):\n",
    "                property_name = property_name.split(\"#\")[-1]\n",
    "            if(property_name == 'seeAlso'):\n",
    "                continue \n",
    "            object_name = line.split('\"')[1]\n",
    "            if(property_name not in subject_properties[name]['properties']):\n",
    "                subject_properties[name]['properties'][property_name] = []\n",
    "            subject_properties[name]['properties'][property_name].append(re.sub('>', '', f'{object_name}#literal'))"
   ]
  },
  {
   "cell_type": "code",
   "execution_count": 16,
   "metadata": {},
   "outputs": [
    {
     "data": {
      "text/plain": [
       "{'properties': {'birthPlace': ['http://dbpedia.org/resource/Covina,_California'],\n",
       "  'position': ['http://dbpedia.org/resource/Goalkeeper_(association_football)'],\n",
       "  'team': ['http://dbpedia.org/resource/Minnesota_United_FC_(2010–16)',\n",
       "   'http://dbpedia.org/resource/OC_Blues_Strikers_FC',\n",
       "   'http://dbpedia.org/resource/Orange_County_Blues'],\n",
       "  'birthDate': ['1986-08-28#literal'],\n",
       "  'height': ['1.9304#literal'],\n",
       "  'name': ['Aaron Louis Perez#literal', 'Aaron Perez#literal']},\n",
       " 'reverse_properties': {}}"
      ]
     },
     "execution_count": 16,
     "metadata": {},
     "output_type": "execute_result"
    }
   ],
   "source": [
    "subject_properties['http://dbpedia.org/resource/Aaron_Perez']"
   ]
  },
  {
   "cell_type": "code",
   "execution_count": 17,
   "metadata": {},
   "outputs": [
    {
     "name": "stdout",
     "output_type": "stream",
     "text": [
      "0\n",
      "2500000\n",
      "5000000\n",
      "7500000\n",
      "10000000\n",
      "12500000\n",
      "15000000\n",
      "17500000\n",
      "20000000\n",
      "22500000\n"
     ]
    }
   ],
   "source": [
    "with open('/scratch/aditya/mappingbased_en.ttl', 'r') as f:\n",
    "    for i, line in enumerate(f):\n",
    "        if(i%2500000 == 0): \n",
    "            print(i)\n",
    "        if(line.split()[0] in subject_set_labels):\n",
    "            #name = subject_set_labels[line.split()[0]]\n",
    "            name = line.split()[0][1:-1]\n",
    "            if(len(name) == 0 or name[0] == '.'):\n",
    "                continue \n",
    "            property_name = line.split()[1].split('/')[-1][:-1]\n",
    "            if(\"#\" in property_name):\n",
    "                property_name = property_name.split(\"#\")[1]\n",
    "            if(property_name == 'seeAlso'):\n",
    "                continue \n",
    "            object_name_ = line.split()[2]\n",
    "            if(object_name_ in subject_set_labels):\n",
    "                object_name = subject_set_labels[object_name_]\n",
    "            else:\n",
    "                if(len(re.findall(r'__\\d+', object_name_))!=0):\n",
    "                    continue \n",
    "                object_name = re.sub('_', ' ',object_name_.split('/')[-1])\n",
    "            object_name = re.sub('>', '', object_name)\n",
    "            if(object_name_[1:-1] in subject_properties):\n",
    "                if(property_name not in subject_properties[object_name_[1:-1]]['reverse_properties']):\n",
    "                    subject_properties[object_name_[1:-1]]['reverse_properties'][property_name] = []\n",
    "                subject_properties[object_name_[1:-1]]['reverse_properties'][property_name].append(name)"
   ]
  },
  {
   "cell_type": "code",
   "execution_count": 29,
   "metadata": {},
   "outputs": [
    {
     "data": {
      "text/plain": [
       "{'properties': {'almaMater': ['http://dbpedia.org/resource/University_of_Louisville'],\n",
       "  'birthPlace': ['http://dbpedia.org/resource/Louisville,_Kentucky'],\n",
       "  'deathPlace': ['http://dbpedia.org/resource/Santa_Barbara,_California'],\n",
       "  'birthDate': ['1940-04-24#literal'],\n",
       "  'birthName': ['Sue Taylor Grafton#literal'],\n",
       "  'birthYear': ['1940#literal'],\n",
       "  'deathDate': ['2017-12-28#literal'],\n",
       "  'deathYear': ['2017#literal'],\n",
       "  'imdbId': ['0333859#literal'],\n",
       "  'name': ['Sue Grafton#literal']},\n",
       " 'reverse_properties': {'author': ['http://dbpedia.org/resource/%22A%22_Is_for_Alibi',\n",
       "   'http://dbpedia.org/resource/%22B%22_Is_for_Burglar',\n",
       "   'http://dbpedia.org/resource/%22C%22_Is_for_Corpse',\n",
       "   'http://dbpedia.org/resource/%22D%22_Is_for_Deadbeat',\n",
       "   'http://dbpedia.org/resource/%22E%22_Is_for_Evidence',\n",
       "   'http://dbpedia.org/resource/%22F%22_Is_for_Fugitive',\n",
       "   'http://dbpedia.org/resource/%22G%22_Is_for_Gumshoe',\n",
       "   'http://dbpedia.org/resource/%22H%22_Is_for_Homicide',\n",
       "   'http://dbpedia.org/resource/%22I%22_Is_for_Innocent',\n",
       "   'http://dbpedia.org/resource/%22J%22_Is_for_Judgment',\n",
       "   'http://dbpedia.org/resource/%22K%22_Is_for_Killer',\n",
       "   'http://dbpedia.org/resource/%22L%22_Is_for_Lawless',\n",
       "   'http://dbpedia.org/resource/%22M%22_Is_for_Malice',\n",
       "   'http://dbpedia.org/resource/%22N%22_Is_for_Noose',\n",
       "   'http://dbpedia.org/resource/%22O%22_Is_for_Outlaw',\n",
       "   'http://dbpedia.org/resource/%22P%22_Is_for_Peril',\n",
       "   'http://dbpedia.org/resource/%22Q%22_Is_for_Quarry',\n",
       "   'http://dbpedia.org/resource/%22R%22_Is_for_Ricochet',\n",
       "   'http://dbpedia.org/resource/%22S%22_Is_for_Silence',\n",
       "   'http://dbpedia.org/resource/%22T%22_Is_for_Trespass',\n",
       "   'http://dbpedia.org/resource/%22U%22_Is_for_Undertow',\n",
       "   'http://dbpedia.org/resource/%22V%22_Is_for_Vengeance',\n",
       "   'http://dbpedia.org/resource/%22W%22_Is_for_Wasted',\n",
       "   'http://dbpedia.org/resource/%22Y%22_Is_for_Yesterday',\n",
       "   'http://dbpedia.org/resource/A_Caribbean_Mystery_(film)',\n",
       "   'http://dbpedia.org/resource/A_Killer_in_the_Family',\n",
       "   'http://dbpedia.org/resource/Keziah_Dane',\n",
       "   'http://dbpedia.org/resource/Love_on_the_Run_(1985_film)',\n",
       "   'http://dbpedia.org/resource/The_Lolly-Madonna_War',\n",
       "   'http://dbpedia.org/resource/X_(Grafton_novel)'],\n",
       "  'relative': ['http://dbpedia.org/resource/C._W._Grafton'],\n",
       "  'creator': ['http://dbpedia.org/resource/Kinsey_Millhone',\n",
       "   'http://dbpedia.org/resource/Nurse_(American_TV_series)'],\n",
       "  'writer': ['http://dbpedia.org/resource/Lolly-Madonna_XXX'],\n",
       "  'executiveProducer': ['http://dbpedia.org/resource/Love_on_the_Run_(1985_film)']}}"
      ]
     },
     "execution_count": 29,
     "metadata": {},
     "output_type": "execute_result"
    }
   ],
   "source": [
    "subject_properties['http://dbpedia.org/resource/Sue_Grafton']"
   ]
  },
  {
   "cell_type": "code",
   "execution_count": 18,
   "metadata": {},
   "outputs": [
    {
     "data": {
      "text/plain": [
       "3551291"
      ]
     },
     "execution_count": 18,
     "metadata": {},
     "output_type": "execute_result"
    }
   ],
   "source": [
    "len(subject_properties)"
   ]
  },
  {
   "cell_type": "code",
   "execution_count": 31,
   "metadata": {},
   "outputs": [],
   "source": [
    "with(open(\"ontology_props.jsonl\", \"w\")) as f:\n",
    "    for key, value in subject_properties.items():\n",
    "        dict_ = {'name': re.sub('>', '', key), 'properties': value}\n",
    "        f.write(json.dumps(dict_, ensure_ascii=False) + \"\\n\")"
   ]
  },
  {
   "cell_type": "code",
   "execution_count": 67,
   "metadata": {},
   "outputs": [],
   "source": [
    "with(open('subjects_list.txt', 'w')) as f:\n",
    "    for key, value in subject_properties.items():\n",
    "        f.write(re.sub('>', '', key) + \"\\n\")"
   ]
  },
  {
   "cell_type": "code",
   "execution_count": 45,
   "metadata": {},
   "outputs": [
    {
     "name": "stdout",
     "output_type": "stream",
     "text": [
      "\n"
     ]
    }
   ],
   "source": [
    "# prop_counts = Counter()\n",
    "# for name in subject_properties:\n",
    "#     count = 0\n",
    "#     for prop in subject_properties[name]:\n",
    "#         count += len(subject_properties[name][prop])\n",
    "#     if(count > 50):\n",
    "#         print(name)\n",
    "#     prop_counts[count] += 1"
   ]
  },
  {
   "cell_type": "code",
   "execution_count": 8,
   "metadata": {},
   "outputs": [],
   "source": [
    "id_mapping = {} "
   ]
  },
  {
   "cell_type": "code",
   "execution_count": 9,
   "metadata": {},
   "outputs": [
    {
     "name": "stdout",
     "output_type": "stream",
     "text": [
      "0\n",
      "10000000\n",
      "20000000\n",
      "30000000\n",
      "40000000\n",
      "50000000\n",
      "60000000\n",
      "70000000\n",
      "80000000\n",
      "90000000\n"
     ]
    }
   ],
   "source": [
    "with open('/scratch/aditya/global-ids.tsv', 'r') as f:\n",
    "    for i, line in enumerate(f):\n",
    "        if(i%10000000 == 0):\n",
    "            print(i)\n",
    "        tokens = line.split()\n",
    "        url_domain = tokens[0].split('.')[0].split('/')[-1]\n",
    "        obj_id = tokens[-1]\n",
    "        if(url_domain in ['de', 'ga', 'dbpedia']):\n",
    "            if(obj_id not in id_mapping):\n",
    "                id_mapping[obj_id] = {}\n",
    "            id_mapping[obj_id][url_domain] = tokens[0]"
   ]
  },
  {
   "cell_type": "code",
   "execution_count": 31,
   "metadata": {},
   "outputs": [
    {
     "data": {
      "text/plain": [
       "['3FtWV',\n",
       " '3RQ5Z',\n",
       " '2XWKW',\n",
       " '3WJaS',\n",
       " '39zxw',\n",
       " 'YbyJ',\n",
       " '3Kd5o',\n",
       " '3KsX8',\n",
       " '5ioGM',\n",
       " '6cZMK']"
      ]
     },
     "execution_count": 31,
     "metadata": {},
     "output_type": "execute_result"
    }
   ],
   "source": [
    "list(id_mapping.keys())[:10]"
   ]
  },
  {
   "cell_type": "code",
   "execution_count": 32,
   "metadata": {},
   "outputs": [
    {
     "data": {
      "text/plain": [
       "{'dbpedia': 'http://dbpedia.org/resource/!!!_(disambiguation)'}"
      ]
     },
     "execution_count": 32,
     "metadata": {},
     "output_type": "execute_result"
    }
   ],
   "source": [
    "id_mapping['3WJaS']"
   ]
  },
  {
   "cell_type": "code",
   "execution_count": 47,
   "metadata": {},
   "outputs": [],
   "source": [
    "ids_retained = {'en':set(), 'de':set(), 'ga':set()}"
   ]
  },
  {
   "cell_type": "code",
   "execution_count": 33,
   "metadata": {},
   "outputs": [],
   "source": [
    "id_lang_mapping = {}"
   ]
  },
  {
   "cell_type": "code",
   "execution_count": 48,
   "metadata": {},
   "outputs": [],
   "source": [
    "for obj_id in id_mapping:\n",
    "    if('dbpedia' in id_mapping[obj_id]):\n",
    "        if(id_mapping[obj_id]['dbpedia'] in subject_properties and ('de' in id_mapping[obj_id] or 'ga' in id_mapping[obj_id])):\n",
    "            ids_retained['en'].add(id_mapping[obj_id]['dbpedia'])\n",
    "            id_lang_mapping[id_mapping[obj_id]['dbpedia']] = id_mapping[obj_id]['dbpedia']\n",
    "            if('de' in id_mapping[obj_id]):\n",
    "                ids_retained['de'].add(id_mapping[obj_id]['de'])\n",
    "                id_lang_mapping[id_mapping[obj_id]['de']] = id_mapping[obj_id]['dbpedia']\n",
    "            if('ga' in id_mapping[obj_id]):\n",
    "                ids_retained['ga'].add(id_mapping[obj_id]['ga'])\n",
    "                id_lang_mapping[id_mapping[obj_id]['ga']] = id_mapping[obj_id]['dbpedia']"
   ]
  },
  {
   "cell_type": "code",
   "execution_count": 35,
   "metadata": {},
   "outputs": [
    {
     "data": {
      "text/plain": [
       "['http://de.dbpedia.org/resource/Doppeltes_Ausrufezeichen',\n",
       " 'http://dbpedia.org/resource/!!!',\n",
       " 'http://de.dbpedia.org/resource/!!!',\n",
       " 'http://dbpedia.org/resource/!Action_Pact!',\n",
       " 'http://de.dbpedia.org/resource/Action_Pact',\n",
       " 'http://dbpedia.org/resource/!Hero',\n",
       " 'http://dbpedia.org/resource/!Oka_Tokat',\n",
       " 'http://dbpedia.org/resource/!PAUS3',\n",
       " 'http://dbpedia.org/resource/!Women_Art_Revolution',\n",
       " 'http://ga.dbpedia.org/resource/!_(albam)']"
      ]
     },
     "execution_count": 35,
     "metadata": {},
     "output_type": "execute_result"
    }
   ],
   "source": [
    "list(id_lang_mapping.keys())[:10]"
   ]
  },
  {
   "cell_type": "code",
   "execution_count": 49,
   "metadata": {},
   "outputs": [
    {
     "data": {
      "text/plain": [
       "664044"
      ]
     },
     "execution_count": 49,
     "metadata": {},
     "output_type": "execute_result"
    }
   ],
   "source": [
    "len(ids_retained['en'])"
   ]
  },
  {
   "cell_type": "code",
   "execution_count": 25,
   "metadata": {},
   "outputs": [
    {
     "data": {
      "text/plain": [
       "'http://dbpedia.org/resource/Jabari_Bird'"
      ]
     },
     "execution_count": 25,
     "metadata": {},
     "output_type": "execute_result"
    }
   ],
   "source": [
    "list(ids_retained['de'])[0]"
   ]
  },
  {
   "cell_type": "code",
   "execution_count": 71,
   "metadata": {},
   "outputs": [],
   "source": [
    "abstracts = {'en':{}, 'de':{}, 'ga':{}}"
   ]
  },
  {
   "cell_type": "code",
   "execution_count": 50,
   "metadata": {},
   "outputs": [
    {
     "name": "stdout",
     "output_type": "stream",
     "text": [
      "en\n",
      "de\n",
      "ga\n"
     ]
    }
   ],
   "source": [
    "for lang in ['en', 'de', 'ga']:\n",
    "    print(lang)\n",
    "    lang_file = open(f'/scratch/aditya/abstracts_{lang}.jsonl', 'w')\n",
    "    with(open(f'/scratch/aditya/long-abstracts_lang={lang}.ttl.bzip2.out', 'r')) as f:\n",
    "        for i, line in enumerate(f):\n",
    "            resource = line.split('<http://dbpedia.org/ontology/abstract>')[0][1:-2]\n",
    "            if(resource in ids_retained[lang]):\n",
    "                text = line.split('<http://dbpedia.org/ontology/abstract>')[1].split(f'@{lang}')[0][1:-1]\n",
    "                lang_file.write(json.dumps({'resource': id_lang_mapping[resource], 'text': text}, ensure_ascii=False) + \"\\n\")\n",
    "    lang_file.close()"
   ]
  },
  {
   "cell_type": "code",
   "execution_count": null,
   "metadata": {},
   "outputs": [],
   "source": []
  }
 ],
 "metadata": {
  "kernelspec": {
   "display_name": "Python 3.7.16 ('nabu')",
   "language": "python",
   "name": "python3"
  },
  "language_info": {
   "codemirror_mode": {
    "name": "ipython",
    "version": 3
   },
   "file_extension": ".py",
   "mimetype": "text/x-python",
   "name": "python",
   "nbconvert_exporter": "python",
   "pygments_lexer": "ipython3",
   "version": "3.7.16"
  },
  "orig_nbformat": 4,
  "vscode": {
   "interpreter": {
    "hash": "8e1ad4b58e12efd51d92da96578f297d8a2c58a48efeb92cecfb56ce0ce9bfc6"
   }
  }
 },
 "nbformat": 4,
 "nbformat_minor": 2
}
