{
 "cells": [
  {
   "cell_type": "code",
   "execution_count": 1,
   "metadata": {},
   "outputs": [],
   "source": [
    "import random\n",
    "import regex as re\n",
    "import wikipedia\n",
    "import wikitextparser as wtp"
   ]
  },
  {
   "cell_type": "code",
   "execution_count": 29,
   "metadata": {},
   "outputs": [],
   "source": [
    "patterns = {\n",
    "    'written': r'<a href=\"([^\"]*)\" class=\"extiw\" title=\"([^\"]*)\".*\\n<td>written work<\\/td>\\n<td>✓ <a href=\"([^\"]*)\" title=\"([^\"]*)', \n",
    "    'vehicle': r'<a href=\"([^\"]*)\" class=\"extiw\" title=\"([^\"]*)\".*\\n<td>.*(?:vehicle|aircraft).*<\\/td>\\n<td>✓ <a href=\"([^\"]*)\" title=\"([^\"]*)',\n",
    "    'city': r'<a href=\"([^\"]*)\" class=\"extiw\" title=\"([^\"]*)\".*\\n<td>.*(?:city|municipality).*<\\/td>\\n<td>✓ <a href=\"([^\"]*)\" title=\"([^\"]*)',\n",
    "    'monument': r'<a href=\"([^\"]*)\" class=\"extiw\" title=\"([^\"]*)\".*\\n<td>.*(?:monument|building).*<\\/td>\\n<td>✓ <a href=\"([^\"]*)\" title=\"([^\"]*)',\n",
    "    'team': r'<a href=\"([^\"]*)\" class=\"extiw\" title=\"([^\"]*)\".*\\n<td>.*(?:team|club).*<\\/td>\\n<td>✓ <a href=\"([^\"]*)\" title=\"([^\"]*)',\n",
    "    'human': r'<a href=\"([^\"]*)\" class=\"extiw\" title=\"([^\"]*)\".*\\n<td>.*human.*<\\/td>\\n<td>✓ <a href=\"([^\"]*)\" title=\"([^\"]*)'\n",
    "}"
   ]
  },
  {
   "cell_type": "code",
   "execution_count": 30,
   "metadata": {},
   "outputs": [],
   "source": [
    "raw_links_de = open('de.txt', 'r').read().strip()"
   ]
  },
  {
   "cell_type": "code",
   "execution_count": 31,
   "metadata": {},
   "outputs": [
    {
     "name": "stdout",
     "output_type": "stream",
     "text": [
      "written 12\n",
      "vehicle 19\n",
      "city 124\n",
      "monument 30\n",
      "team 19\n",
      "human 481\n",
      "125\n"
     ]
    }
   ],
   "source": [
    "all_found_de = [] \n",
    "for pattern in patterns:\n",
    "    found = re.findall(patterns[pattern], raw_links_de)\n",
    "    found = [(f, pattern) for f in found]\n",
    "    print(pattern, len(found))\n",
    "    random.shuffle(found)\n",
    "    all_found_de.extend(found[:25])\n",
    "\n",
    "print(len(all_found_de))"
   ]
  },
  {
   "cell_type": "code",
   "execution_count": 32,
   "metadata": {},
   "outputs": [],
   "source": [
    "raw_links_pt = open('pt.txt', 'r').read().strip()"
   ]
  },
  {
   "cell_type": "code",
   "execution_count": 33,
   "metadata": {},
   "outputs": [
    {
     "name": "stdout",
     "output_type": "stream",
     "text": [
      "written 5\n",
      "vehicle 14\n",
      "city 71\n",
      "monument 3\n",
      "team 8\n",
      "human 312\n",
      "80\n"
     ]
    }
   ],
   "source": [
    "all_found_pt = [] \n",
    "for pattern in patterns:\n",
    "    found = re.findall(patterns[pattern], raw_links_pt)\n",
    "    found = [(f, pattern) for f in found]\n",
    "    print(pattern, len(found))\n",
    "    random.shuffle(found)\n",
    "    all_found_pt.extend(found[:25])\n",
    "\n",
    "print(len(all_found_pt))"
   ]
  },
  {
   "cell_type": "code",
   "execution_count": 34,
   "metadata": {},
   "outputs": [
    {
     "data": {
      "text/plain": [
       "(('https://pt.wikipedia.org/wiki/Boeing_B-52_Stratofortress',\n",
       "  'pt:Boeing B-52 Stratofortress',\n",
       "  '/wiki/Boeing_B-52_Stratofortress',\n",
       "  'Boeing B-52 Stratofortress'),\n",
       " 'vehicle')"
      ]
     },
     "execution_count": 34,
     "metadata": {},
     "output_type": "execute_result"
    }
   ],
   "source": [
    "all_found_pt[14]"
   ]
  },
  {
   "cell_type": "code",
   "execution_count": 35,
   "metadata": {},
   "outputs": [],
   "source": [
    "ignore_sections = []"
   ]
  },
  {
   "cell_type": "code",
   "execution_count": 36,
   "metadata": {},
   "outputs": [],
   "source": [
    "all_content = {\n",
    "    'en':{},\n",
    "    'de':{},\n",
    "    'pt':{}\n",
    "}"
   ]
  },
  {
   "cell_type": "code",
   "execution_count": 37,
   "metadata": {},
   "outputs": [
    {
     "name": "stdout",
     "output_type": "stream",
     "text": [
      "0 A Man Asleep lol Ein Mann der schläft\n",
      "1 Phaedrus (dialogue) lol Phaidros\n",
      "2 Darkness Visible (memoir) lol Darkness Visible: A Memoir of Madness\n",
      "3 Verbal Behavior lol Verbal Behavior\n",
      "4 The Devil to Pay in the Backlands lol Grande Sertão (Roman)\n",
      "5 Gorgias (dialogue) lol Gorgias (Platon)\n",
      "6 Independent People lol Sein eigener Herr\n",
      "7 Parmenides (dialogue) lol Parmenides (Platon)\n",
      "8 Crito lol Kriton\n",
      "9 Lysis (dialogue) lol Lysis (Platon)\n",
      "10 Systema Naturae lol Systema Naturae\n",
      "11 Plato's unwritten doctrines lol Ungeschriebene Lehre\n",
      "12 Airbus A300 lol Airbus A300\n",
      "English nope\n",
      "German nope\n",
      "13 Airbus A340 lol Airbus A340\n",
      "German nope\n",
      "14 Leopard 2 lol Leopard 2\n",
      "15 Airbus A330 lol Airbus A330\n",
      "German nope\n",
      "16 Airbus A380 lol Airbus A380\n",
      "German nope\n",
      "17 Transall C-160 lol Transall C-160\n",
      "18 ISU-152 lol ISU-152\n",
      "English nope\n",
      "German nope\n",
      "19 T-60 tank lol T-60\n",
      "English nope\n",
      "German nope\n",
      "20 Boeing KC-135 Stratotanker lol Boeing KC-135\n",
      "German nope\n",
      "21 Bradley Fighting Vehicle lol M2/M3 Bradley\n",
      "22 Rockwell B-1 Lancer lol Rockwell B-1\n",
      "23 Messerschmitt Bf 108 Taifun lol Messerschmitt Bf 108\n",
      "German nope\n",
      "24 Boeing B-52 Stratofortress lol Boeing B-52\n",
      "German nope\n",
      "25 Landing Vehicle Tracked lol Landing Vehicle Tracked\n",
      "26 Airbus A320 family lol Airbus-A320-Familie\n",
      "27 Boeing 747 lol Boeing 747\n",
      "28 Soyuz (spacecraft) lol Sojus (Raumschiff)\n",
      "29 Flakpanzer Gepard lol Flugabwehrkanonenpanzer Gepard\n",
      "30 Dassault Rafale lol Dassault Rafale\n",
      "31 Canberra lol Canberra\n",
      "32 Dresden lol Dresden\n",
      "33 Uplengen lol Uplengen\n",
      "34 Delft lol Delft\n",
      "English nope\n",
      "German nope\n",
      "35 Rheinfelden (Aargau) lol Rheinfelden AG\n",
      "36 Beetzsee (municipality) lol Beetzsee (Gemeinde)\n",
      "37 U2 (Berlin U-Bahn) lol U-Bahn-Linie U2 (Berlin)\n",
      "38 Kleinmachnow lol Kleinmachnow\n",
      "39 Bhaktapur lol Bhaktapur\n",
      "40 Südbrookmerland lol Südbrookmerland\n",
      "41 Pompeii lol Pompeji\n",
      "42 São Paulo lol São Paulo\n",
      "43 Moormerland lol Moormerland\n",
      "44 Memmingen lol Memmingen\n",
      "45 Wetzlar lol Wetzlar\n",
      "46 Bombing of Dresden in World War II lol Luftangriffe auf Dresden\n",
      "47 Braunschweig lol Braunschweig\n",
      "48 Norden, Lower Saxony lol Norden (Ostfriesland)\n",
      "49 Toronto lol Toronto\n",
      "50 Schwieberdingen lol Schwieberdingen\n",
      "51 Eberswalde lol Eberswalde\n",
      "52 Fribourg lol Freiburg im Üechtland\n",
      "53 Fortifications of Frankfurt lol Frankfurter Stadtbefestigung\n",
      "54 Leipzig lol Leipzig\n",
      "55 Hattusa lol Ḫattuša\n",
      "56 Upper Germanic-Rhaetian Limes lol Obergermanisch-Raetischer Limes\n",
      "57 St. Nicholas Church, Potsdam lol St. Nikolai (Potsdam)\n",
      "58 Neues Museum lol Neues Museum (Berlin)\n",
      "59 Poverty Point lol Poverty Point\n",
      "60 Great St. Martin Church, Cologne lol Groß St. Martin\n",
      "61 Altes Stadthaus, Berlin lol Altes Stadthaus (Berlin)\n",
      "62 Federal Palace of Switzerland lol Bundeshaus (Bern)\n",
      "63 The Whale House lol Haus zum Walfisch\n",
      "64 Buried Pyramid lol Sechemchet-Pyramide\n",
      "65 Sophienkirche lol Sophienkirche (Dresden)\n",
      "66 Salzhaus lol Salzhaus (Frankfurt am Main)\n",
      "67 King Ludwig Oak lol König-Ludwig-Eiche\n",
      "68 Watkin's Tower lol Watkin’s Tower\n",
      "69 Rötteln Castle lol Burg Rötteln\n",
      "70 City Church of Bremgarten lol Stadtkirche Bremgarten\n",
      "71 Nietzsche Archive lol Nietzsche-Archiv\n",
      "72 St. Catherine's Church, Frankfurt lol Katharinenkirche (Frankfurt am Main)\n",
      "73 Roche Tower lol Roche-Turm (Bau 1)\n",
      "74 St. Leonhard, Frankfurt lol Leonhardskirche (Frankfurt am Main)\n",
      "75 Palace of Westminster lol Palace of Westminster\n",
      "English nope\n",
      "76 Saint Cyriakus, Gernrode lol Stiftskirche St. Cyriakus (Gernrode)\n",
      "77 St. Mary's Church, Rostock lol Marienkirche (Rostock)\n",
      "78 Reichstag building lol Reichstagsgebäude\n",
      "79 Church of the Redeemer, Sacrow lol Heilandskirche am Port von Sacrow\n",
      "80 Goetheanum lol Goetheanum\n",
      "81 Minardi lol Minardi\n",
      "82 France national football team lol Französische Fußballnationalmannschaft\n",
      "83 VfB Stuttgart lol VfB Stuttgart\n",
      "84 Blue Angels lol Blue Angels\n",
      "English nope\n",
      "85 San Jose Sharks lol San Jose Sharks\n",
      "86 New Zealand national rugby union team lol Neuseeländische Rugby-Union-Nationalmannschaft\n",
      "German nope\n",
      "87 Arminia Bielefeld lol Arminia Bielefeld\n",
      "88 Rivalry between Cologne and Düsseldorf lol Rivalität zwischen Köln und Düsseldorf\n",
      "89 Switzerland national football team lol Schweizer Fussballnationalmannschaft\n",
      "90 FC Hansa Rostock lol Hansa Rostock\n",
      "91 Austria national football team lol Österreichische Fußballnationalmannschaft\n",
      "92 EuroBrun lol EuroBrun Racing\n",
      "93 FLN football team lol Fußballauswahl des FLN\n",
      "94 Andrea Moda Formula lol Andrea Moda Formula\n",
      "95 France women's national football team lol Französische Fußballnationalmannschaft der Frauen\n",
      "96 Mechanics' Institute, San Francisco lol San Francisco Mechanics’ Institute\n",
      "97 Kassel Huskies lol Kassel Huskies\n",
      "98 Arsenal F.C. lol FC Arsenal\n",
      "99 Stade de Reims lol Stade Reims\n",
      "100 Antinous lol Antinoos\n",
      "English nope\n",
      "101 Walter Benjamin lol Walter Benjamin\n",
      "102 Apollo 8 lol Apollo 8\n",
      "103 Munir Bashir lol Munir Baschir\n",
      "104 Philo of Larissa lol Philon von Larisa\n",
      "English nope\n",
      "105 Henry the Fowler lol Heinrich I. (Ostfrankenreich)\n",
      "106 Ansel Adams lol Ansel Adams\n",
      "English nope\n",
      "German nope\n",
      "107 STS-117 lol STS-117\n",
      "German nope\n",
      "108 Hilde Zimmermann lol Hilde Zimmermann\n",
      "109 Fridtjof Nansen lol Fridtjof Nansen\n",
      "110 Henry Dunant lol Henry Dunant\n",
      "English nope\n",
      "German nope\n",
      "111 Clara Schumann lol Clara Schumann\n",
      "112 Theodosius I lol Theodosius I.\n",
      "113 Herman Moll lol Herman Moll\n",
      "114 Cyrus the Great lol Kyros II.\n",
      "English nope\n",
      "115 Angus Campbell (psychologist) lol Angus Campbell (Sozialpsychologe)\n",
      "116 Man Ray lol Man Ray\n",
      "English nope\n",
      "German nope\n",
      "117 Siger of Brabant lol Siger von Brabant\n",
      "118 Lewis Carroll lol Lewis Carroll\n",
      "119 Richard Foerster (classical scholar) lol Richard Foerster (Altphilologe)\n",
      "120 Jim Morrison lol Jim Morrison\n",
      "English nope\n",
      "German nope\n",
      "121 Wolfgang Diewerge lol Wolfgang Diewerge\n",
      "122 El Greco lol El Greco\n",
      "English nope\n",
      "German nope\n",
      "123 Margaret of Valois lol Margarete von Valois\n",
      "124 Sebastian Sailer lol Sebastian Sailer\n"
     ]
    }
   ],
   "source": [
    "for i, found in enumerate(all_found_de):\n",
    "    category = found[1]\n",
    "    en_title = found[0][3]\n",
    "    de_title = found[0][1][3:]\n",
    "    print(i, en_title, 'lol', de_title)\n",
    "    try:\n",
    "        paras = []\n",
    "        wikipedia.set_lang('en')\n",
    "        en_page = wikipedia.page(en_title)\n",
    "        parsed = wtp.parse(en_page.content)\n",
    "        replace_multiples = [re.sub(\"\\n{1,}\", \"\\n\", section.contents) for section in parsed.sections if section.title==None or section.title.strip() not in ignore_sections]\n",
    "        for section in replace_multiples:\n",
    "            paras.append(section.split('\\n'))\n",
    "        paras = [[para for para in section if len(para)>100] for section in paras]\n",
    "        all_content['en'][en_page.title] = (category, en_title, [para for para in paras if len(para)>0])\n",
    "    except Exception:\n",
    "        print(\"English nope\")\n",
    "\n",
    "    try:\n",
    "        paras = []\n",
    "        wikipedia.set_lang('de')\n",
    "        de_page = wikipedia.page(de_title)\n",
    "        parsed = wtp.parse(de_page.content)\n",
    "        replace_multiples = [re.sub(\"\\n{1,}\", \"\\n\", section.contents) for section in parsed.sections if section.title==None or section.title.strip() not in ignore_sections]\n",
    "        for section in replace_multiples:\n",
    "            paras.append(section.split('\\n'))\n",
    "        paras = [[para for para in section if len(para)>100] for section in paras]\n",
    "        all_content['de'][en_title] = (category, de_page.title, [para for para in paras if len(para)>0])\n",
    "    except Exception:\n",
    "        print(\"German nope\")"
   ]
  },
  {
   "cell_type": "code",
   "execution_count": 38,
   "metadata": {},
   "outputs": [
    {
     "name": "stdout",
     "output_type": "stream",
     "text": [
      "0 A Vindication of the Rights of Woman lol Uma Reivindicação pelos Direitos da Mulher\n",
      "1 The World Without Us lol O Mundo sem Nós\n",
      "2 A Vindication of the Rights of Men lol Uma Reivindicação dos Direitos dos Homens\n",
      "3 Everything Tastes Better with Bacon lol Everything Tastes Better with Bacon\n",
      "4 Race Against Time: Searching for Hope in AIDS-Ravaged Africa lol Race Against Time: Searching for Hope in AIDS-Ravaged Africa\n",
      "5 Boeing 747 lol Boeing 747\n",
      "6 Boeing 777 lol Boeing 777\n",
      "7 Airbus A380 lol Airbus A380\n",
      "8 Saab JAS 39 Gripen lol Saab JAS 39 Gripen\n",
      "9 September 11 attacks lol Ataques de 11 de setembro de 2001\n",
      "10 McDonnell Douglas F-4 Phantom II in Australian service lol McDonnell Douglas F-4 Phantom II na Real Força Aérea Australiana\n",
      "11 Japanese aircraft carrier Akagi lol Akagi (porta-aviões)\n",
      "12 North American X-15 lol North American X-15\n",
      "English nope\n",
      "13 Lockheed XF-104 Starfighter lol Lockheed XF-104\n",
      "14 Boeing B-52 Stratofortress lol Boeing B-52 Stratofortress\n",
      "15 Airbus A350 lol Airbus A350\n",
      "16 McDonnell XF-85 Goblin lol McDonnell XF-85 Goblin\n",
      "17 USS Ranger (CV-4) lol USS Ranger (CV-4)\n",
      "18 Republic F-84 Thunderjet lol Republic F-84 Thunderjet\n",
      "19 Paris lol Paris\n",
      "20 Goiânia lol Goiânia\n",
      "21 São Paulo lol São Paulo\n",
      "22 Parnamirim lol Parnamirim (Rio Grande do Norte)\n",
      "23 São Mateus, Espírito Santo lol São Mateus (Espírito Santo)\n",
      "24 Montes Claros lol Montes Claros\n",
      "25 Natal, Rio Grande do Norte lol Natal (Rio Grande do Norte)\n",
      "26 Campos Novos lol Campos Novos\n",
      "27 History of Pamplona lol História de Pamplona\n",
      "28 New York City lol Nova Iorque\n",
      "English nope\n",
      "29 Mossoró lol Mossoró\n",
      "30 Uberlândia lol Uberlândia\n",
      "31 Pará de Minas lol Pará de Minas\n",
      "32 Timóteo lol Timóteo\n",
      "33 Fundão, Espírito Santo lol Fundão (Espírito Santo)\n",
      "34 Hortolândia lol Hortolândia\n",
      "35 Fortaleza lol Fortaleza\n",
      "36 Caxias do Sul lol Caxias do Sul\n",
      "37 São José dos Campos lol São José dos Campos\n",
      "38 Piracicaba lol Piracicaba\n",
      "39 São João do Triunfo lol São João do Triunfo\n",
      "40 Malta, Paraíba lol Malta (Paraíba)\n",
      "41 Governador Valadares, Minas Gerais lol Governador Valadares\n",
      "42 Garanhuns lol Garanhuns\n",
      "43 Itumbiara lol Itumbiara\n",
      "44 Santuário do Bom Jesus de Matosinhos lol Santuário do Bom Jesus de Matosinhos\n",
      "45 Pennsylvania Station (1910–1963) lol Pennsylvania Station (1910–1963)\n",
      "46 Parish Church of Trindade lol Igreja Matriz de Trindade\n",
      "47 Brazil women's national artistic gymnastics team lol Seleção Brasileira de Ginástica Artística Feminina\n",
      "48 2023 Supercopa do Brasil lol Supercopa do Brasil de 2023\n",
      "English nope\n",
      "49 History of Botafogo de Futebol e Regatas lol História do Botafogo de Futebol e Regatas\n",
      "50 Manchester United F.C. 9–0 Ipswich Town F.C. lol Manchester United 9–0 Ipswich Town\n",
      "51 Russia women's national artistic gymnastics team lol Seleção Russa de Ginástica Artística Feminina\n",
      "52 Brazilian frigate Amazonas lol Amazonas (1851)\n",
      "53 SS Drottningholm lol SS Drottningholm\n",
      "54 United States women's national artistic gymnastics team lol Seleção de Ginástica Artística Feminina dos Estados Unidos\n",
      "55 Alberto Henschel lol Alberto Henschel\n",
      "56 Jean-Auguste-Dominique Ingres lol Jean-Auguste Dominique Ingres\n",
      "57 Hans-Joachim Marseille lol Hans-Joachim Marseille\n",
      "58 Thomas Baker (aviator) lol Thomas Baker\n",
      "59 Charles Messier lol Charles Messier\n",
      "60 Frank Headlam lol Frank Headlam\n",
      "61 Grand Duchess Maria Nikolaevna of Russia lol Maria Nikolaevna da Rússia\n",
      "62 Albert, Prince Consort lol Alberto de Saxe-Coburgo-Gota\n",
      "63 Jimmy Kudo lol Shinichi Kudo\n",
      "64 Princess Louise, Duchess of Argyll lol Luísa do Reino Unido\n",
      "65 Adolf Hitler lol Adolf Hitler\n",
      "English nope\n",
      "66 Victoria, Princess Royal lol Vitória, Princesa Real do Reino Unido\n",
      "67 Pope John XXIII lol Papa João XXIII\n",
      "English nope\n",
      "68 Attila lol Átila\n",
      "69 Fairfax Harrison lol Fairfax Harrison\n",
      "70 Apollo 13 lol Apollo 13\n",
      "71 Gregory of Nazianzus lol Gregório de Nazianzo\n",
      "72 Albert Speer lol Albert Speer\n",
      "English nope\n",
      "73 Brad Pitt lol Brad Pitt\n",
      "English nope\n",
      "74 Charles Darwin lol Charles Darwin\n",
      "75 Lawrence Wetherby lol Lawrence Wetherby\n",
      "76 Edward VIII lol Eduardo VIII do Reino Unido\n",
      "77 Almada Negreiros lol Almada Negreiros\n",
      "78 Theodoric Strabo lol Teodorico Estrabão\n",
      "79 Alboin lol Alboíno\n",
      "English nope\n"
     ]
    }
   ],
   "source": [
    "for i, found in enumerate(all_found_pt):\n",
    "    category = found[1]\n",
    "    en_title = found[0][3]\n",
    "    de_title = found[0][1][3:]\n",
    "    print(i, en_title, 'lol', de_title)\n",
    "    try:\n",
    "        paras = []\n",
    "        wikipedia.set_lang('en')\n",
    "        en_page = wikipedia.page(en_title)\n",
    "        parsed = wtp.parse(en_page.content)\n",
    "        replace_multiples = [re.sub(\"\\n{1,}\", \"\\n\", section.contents) for section in parsed.sections if section.title==None or section.title.strip() not in ignore_sections]\n",
    "        for section in replace_multiples:\n",
    "            paras.append(section.split('\\n'))\n",
    "        paras = [[para for para in section if len(para)>100] for section in paras]\n",
    "        all_content['en'][en_page.title] = (category, en_title, [para for para in paras if len(para)>0])\n",
    "    except Exception:\n",
    "        print(\"English nope\")\n",
    "\n",
    "    try:\n",
    "        paras = []\n",
    "        wikipedia.set_lang('pt')\n",
    "        de_page = wikipedia.page(de_title)\n",
    "        parsed = wtp.parse(de_page.content)\n",
    "        replace_multiples = [re.sub(\"\\n{1,}\", \"\\n\", section.contents) for section in parsed.sections if section.title==None or section.title.strip() not in ignore_sections]\n",
    "        for section in replace_multiples:\n",
    "            paras.append(section.split('\\n'))\n",
    "        paras = [[para for para in section if len(para)>100] for section in paras]\n",
    "        all_content['pt'][en_title] = (category, de_page.title, [para for para in paras if len(para)>0])\n",
    "    except Exception:\n",
    "        print(\"German nope\")"
   ]
  },
  {
   "cell_type": "code",
   "execution_count": 45,
   "metadata": {},
   "outputs": [],
   "source": [
    "import pickle "
   ]
  },
  {
   "cell_type": "code",
   "execution_count": 46,
   "metadata": {},
   "outputs": [],
   "source": [
    "all_content_dump = open('all_content.pkl', 'wb')\n",
    "pickle.dump(all_content, all_content_dump)\n",
    "all_content_dump.close()"
   ]
  },
  {
   "cell_type": "code",
   "execution_count": 48,
   "metadata": {},
   "outputs": [
    {
     "data": {
      "text/plain": [
       "dict_keys(['A Vindication of the Rights of Woman', 'The World Without Us', 'A Vindication of the Rights of Men', 'Everything Tastes Better with Bacon', 'Race Against Time: Searching for Hope in AIDS-Ravaged Africa', 'Boeing 747', 'Boeing 777', 'Airbus A380', 'Saab JAS 39 Gripen', 'September 11 attacks', 'McDonnell Douglas F-4 Phantom II in Australian service', 'Japanese aircraft carrier Akagi', 'North American X-15', 'Lockheed XF-104 Starfighter', 'Boeing B-52 Stratofortress', 'Airbus A350', 'McDonnell XF-85 Goblin', 'USS Ranger (CV-4)', 'Republic F-84 Thunderjet', 'Paris', 'Goiânia', 'São Paulo', 'Parnamirim', 'São Mateus, Espírito Santo', 'Montes Claros', 'Natal, Rio Grande do Norte', 'Campos Novos', 'History of Pamplona', 'New York City', 'Mossoró', 'Uberlândia', 'Pará de Minas', 'Timóteo', 'Fundão, Espírito Santo', 'Hortolândia', 'Fortaleza', 'Caxias do Sul', 'São José dos Campos', 'Piracicaba', 'São João do Triunfo', 'Malta, Paraíba', 'Governador Valadares, Minas Gerais', 'Garanhuns', 'Itumbiara', 'Santuário do Bom Jesus de Matosinhos', 'Pennsylvania Station (1910–1963)', 'Parish Church of Trindade', \"Brazil women's national artistic gymnastics team\", '2023 Supercopa do Brasil', 'History of Botafogo de Futebol e Regatas', 'Manchester United F.C. 9–0 Ipswich Town F.C.', \"Russia women's national artistic gymnastics team\", 'Brazilian frigate Amazonas', 'SS Drottningholm', \"United States women's national artistic gymnastics team\", 'Alberto Henschel', 'Jean-Auguste-Dominique Ingres', 'Hans-Joachim Marseille', 'Thomas Baker (aviator)', 'Charles Messier', 'Frank Headlam', 'Grand Duchess Maria Nikolaevna of Russia', 'Albert, Prince Consort', 'Jimmy Kudo', 'Princess Louise, Duchess of Argyll', 'Adolf Hitler', 'Victoria, Princess Royal', 'Pope John XXIII', 'Attila', 'Fairfax Harrison', 'Apollo 13', 'Gregory of Nazianzus', 'Albert Speer', 'Brad Pitt', 'Charles Darwin', 'Lawrence Wetherby', 'Edward VIII', 'Almada Negreiros', 'Theodoric Strabo', 'Alboin'])"
      ]
     },
     "execution_count": 48,
     "metadata": {},
     "output_type": "execute_result"
    }
   ],
   "source": [
    "all_content['pt'].keys()"
   ]
  },
  {
   "cell_type": "code",
   "execution_count": null,
   "metadata": {},
   "outputs": [],
   "source": []
  }
 ],
 "metadata": {
  "kernelspec": {
   "display_name": "Python 3.8.16 ('textbox')",
   "language": "python",
   "name": "python3"
  },
  "language_info": {
   "codemirror_mode": {
    "name": "ipython",
    "version": 3
   },
   "file_extension": ".py",
   "mimetype": "text/x-python",
   "name": "python",
   "nbconvert_exporter": "python",
   "pygments_lexer": "ipython3",
   "version": "3.8.16"
  },
  "orig_nbformat": 4,
  "vscode": {
   "interpreter": {
    "hash": "84fc63c8ae42b05f54f8c8e4c73411ce0404f059987aac7c448c556c45688d5a"
   }
  }
 },
 "nbformat": 4,
 "nbformat_minor": 2
}
