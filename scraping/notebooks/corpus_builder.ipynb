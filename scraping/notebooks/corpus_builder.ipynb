{
 "cells": [
  {
   "cell_type": "code",
   "execution_count": 8,
   "metadata": {},
   "outputs": [],
   "source": [
    "import random\n",
    "import json\n",
    "import re  "
   ]
  },
  {
   "cell_type": "code",
   "execution_count": 6,
   "metadata": {},
   "outputs": [],
   "source": [
    "label_map = {} \n",
    "with open('/scratch/aditya/useful/subject_set_labels.jsonl', 'r') as f:\n",
    "    for line in f:\n",
    "        line = json.loads(line)\n",
    "        label_map.update(line)"
   ]
  },
  {
   "cell_type": "code",
   "execution_count": 42,
   "metadata": {},
   "outputs": [],
   "source": [
    "prop_dict = {} \n",
    "with open('/scratch/aditya/useful/ontology_props.jsonl', 'r') as f:\n",
    "    for line in f:\n",
    "        line = json.loads(line)\n",
    "        prop_dict.update({line['name']: line['properties']})"
   ]
  },
  {
   "cell_type": "code",
   "execution_count": 23,
   "metadata": {},
   "outputs": [],
   "source": [
    "def get_prop_name(item):\n",
    "    if(\"#literal\" in item):\n",
    "        return item.split('#literal')[0], True\n",
    "    if(item in label_map):\n",
    "        tail_name = label_map[item]\n",
    "    else:\n",
    "        tail_name = re.sub('_', ' ',item.split('/')[-1])\n",
    "    return tail_name, False"
   ]
  },
  {
   "cell_type": "code",
   "execution_count": 56,
   "metadata": {},
   "outputs": [
    {
     "name": "stdout",
     "output_type": "stream",
     "text": [
      "0\n",
      "600000\n",
      "1200000\n",
      "1800000\n",
      "2400000\n",
      "3000000\n"
     ]
    }
   ],
   "source": [
    "out_file = open('/scratch/aditya/props_corpus.txt', 'w')\n",
    "with open('/scratch/aditya/useful/ontology_props.jsonl', 'r') as f:\n",
    "    for i, line in enumerate(f):\n",
    "        if(i%600000 == 0):\n",
    "            print(i)\n",
    "        tails = set() \n",
    "        out_props = []\n",
    "        line = json.loads(line)\n",
    "        resource_name = label_map[line['name']]\n",
    "        forward_properties = line['properties']['properties']\n",
    "        for prop in forward_properties:\n",
    "            if(prop == 'name'):\n",
    "                continue\n",
    "            if(len(forward_properties[prop]) > 3):\n",
    "                picked_rng = random.randint(1, 3)\n",
    "                picked = random.sample(forward_properties[prop], picked_rng)\n",
    "            else:\n",
    "                picked = forward_properties[prop]\n",
    "            for item in picked:\n",
    "                tail_name, literal = get_prop_name(item)\n",
    "                out_props.append(f'{resource_name} | {prop} | {tail_name}')\n",
    "\n",
    "                if(not(literal)):\n",
    "                    tails.add(tail_name)\n",
    "                    chain_rng = random.randint(1, 20)\n",
    "                    if(chain_rng < 2):\n",
    "                        if(item in prop_dict):\n",
    "                            forward_props = prop_dict[item]['properties']\n",
    "                            forward_props_keys = list(prop_dict[item]['properties'].keys())\n",
    "                            available_props = len(forward_props_keys)\n",
    "                            if(available_props < 1):\n",
    "                                continue \n",
    "                            picked_rng = random.randint(1, min(3, available_props))\n",
    "                            picked_props = random.sample(forward_props_keys, picked_rng)\n",
    "                            for prop_ in picked_props:\n",
    "                                if(len(forward_props[prop_]) > 3):\n",
    "                                    picked_rng_ = random.randint(1, 3)\n",
    "                                    picked_ = random.sample(forward_props[prop_], picked_rng_)\n",
    "                                else:\n",
    "                                    picked_ = forward_props[prop_]\n",
    "\n",
    "                                for item_ in picked_:\n",
    "                                    tail_name_, literal = get_prop_name(item_)\n",
    "                                    if(tail_name_ == resource_name):\n",
    "                                        continue \n",
    "                                    out_props.append(f'{tail_name} | {prop_} | {tail_name_}')\n",
    "        \n",
    "        reverse_properties = line['properties']['reverse_properties']\n",
    "        for prop in reverse_properties:\n",
    "            if(len(reverse_properties[prop]) > 3):\n",
    "                picked_rng = random.randint(1, 3)\n",
    "                picked = random.sample(reverse_properties[prop], picked_rng)\n",
    "            else:\n",
    "                picked = reverse_properties[prop]\n",
    "            for item in picked:\n",
    "                tail_name, literal = get_prop_name(item)\n",
    "                if(tail_name in tails):\n",
    "                    continue\n",
    "                tails.add(tail_name)\n",
    "                out_props.append(f'{tail_name} | {prop} | {resource_name}')\n",
    "\n",
    "        random_order = random.randint(1, 10)\n",
    "        if(random_order < 5):\n",
    "            random.shuffle(out_props)\n",
    "        out_props = [i.strip() for i in out_props if len(i.strip()) > 0]\n",
    "        if(len(out_props) > 0):\n",
    "            joined_props = ' <TSP> '.join(out_props)\n",
    "            out_file.write(f'{joined_props}\\n')\n",
    "out_file.close()"
   ]
  },
  {
   "cell_type": "code",
   "execution_count": null,
   "metadata": {},
   "outputs": [],
   "source": []
  }
 ],
 "metadata": {
  "kernelspec": {
   "display_name": "Python 3.8.16 ('textbox')",
   "language": "python",
   "name": "python3"
  },
  "language_info": {
   "codemirror_mode": {
    "name": "ipython",
    "version": 3
   },
   "file_extension": ".py",
   "mimetype": "text/x-python",
   "name": "python",
   "nbconvert_exporter": "python",
   "pygments_lexer": "ipython3",
   "version": "3.8.16"
  },
  "orig_nbformat": 4,
  "vscode": {
   "interpreter": {
    "hash": "84fc63c8ae42b05f54f8c8e4c73411ce0404f059987aac7c448c556c45688d5a"
   }
  }
 },
 "nbformat": 4,
 "nbformat_minor": 2
}
